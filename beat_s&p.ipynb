{
 "metadata": {
  "language_info": {
   "codemirror_mode": {
    "name": "ipython",
    "version": 3
   },
   "file_extension": ".py",
   "mimetype": "text/x-python",
   "name": "python",
   "nbconvert_exporter": "python",
   "pygments_lexer": "ipython3",
   "version": "3.8.3-final"
  },
  "orig_nbformat": 2,
  "kernelspec": {
   "name": "python3",
   "display_name": "Python 3"
  }
 },
 "nbformat": 4,
 "nbformat_minor": 2,
 "cells": [
  {
   "cell_type": "code",
   "execution_count": 1,
   "metadata": {},
   "outputs": [
    {
     "output_type": "stream",
     "name": "stdout",
     "text": [
      "Requirement already satisfied: yfinance in c:\\users\\evanh\\anaconda3\\lib\\site-packages (0.1.55)\nRequirement already satisfied: requests>=2.20 in c:\\users\\evanh\\anaconda3\\lib\\site-packages (from yfinance) (2.24.0)\nRequirement already satisfied: pandas>=0.24 in c:\\users\\evanh\\anaconda3\\lib\\site-packages (from yfinance) (1.0.5)\nRequirement already satisfied: multitasking>=0.0.7 in c:\\users\\evanh\\anaconda3\\lib\\site-packages (from yfinance) (0.0.9)\nRequirement already satisfied: numpy>=1.15 in c:\\users\\evanh\\anaconda3\\lib\\site-packages (from yfinance) (1.18.5)\nRequirement already satisfied: lxml>=4.5.1 in c:\\users\\evanh\\anaconda3\\lib\\site-packages (from yfinance) (4.5.2)\nRequirement already satisfied: certifi>=2017.4.17 in c:\\users\\evanh\\anaconda3\\lib\\site-packages (from requests>=2.20->yfinance) (2020.6.20)\nRequirement already satisfied: chardet<4,>=3.0.2 in c:\\users\\evanh\\anaconda3\\lib\\site-packages (from requests>=2.20->yfinance) (3.0.4)\nRequirement already satisfied: idna<3,>=2.5 in c:\\users\\evanh\\anaconda3\\lib\\site-packages (from requests>=2.20->yfinance) (2.10)\nRequirement already satisfied: urllib3!=1.25.0,!=1.25.1,<1.26,>=1.21.1 in c:\\users\\evanh\\anaconda3\\lib\\site-packages (from requests>=2.20->yfinance) (1.25.9)\nRequirement already satisfied: python-dateutil>=2.6.1 in c:\\users\\evanh\\anaconda3\\lib\\site-packages (from pandas>=0.24->yfinance) (2.8.1)\nRequirement already satisfied: pytz>=2017.2 in c:\\users\\evanh\\anaconda3\\lib\\site-packages (from pandas>=0.24->yfinance) (2020.1)\nRequirement already satisfied: six>=1.5 in c:\\users\\evanh\\anaconda3\\lib\\site-packages (from python-dateutil>=2.6.1->pandas>=0.24->yfinance) (1.15.0)\nNote: you may need to restart the kernel to use updated packages.\n"
     ]
    }
   ],
   "source": [
    "pip install yfinance\n"
   ]
  },
  {
   "cell_type": "code",
   "execution_count": 1,
   "metadata": {},
   "outputs": [],
   "source": [
    "import yfinance as yf \n",
    "import pandas as pd \n",
    "import numpy as np \n",
    "import datetime as dt \n",
    "import math "
   ]
  },
  {
   "cell_type": "code",
   "execution_count": null,
   "metadata": {},
   "outputs": [],
   "source": [
    "spy = ticker(\"SPY\")\n",
    "print(spy)"
   ]
  }
 ]
}